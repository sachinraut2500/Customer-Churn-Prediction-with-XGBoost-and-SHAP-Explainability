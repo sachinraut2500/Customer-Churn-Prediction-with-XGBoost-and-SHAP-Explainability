{
  "nbformat": 4,
  "nbformat_minor": 0,
  "metadata": {
    "colab": {
      "provenance": []
    },
    "kernelspec": {
      "name": "python3",
      "display_name": "Python 3"
    },
    "language_info": {
      "name": "python"
    }
  },
  "cells": [
    {
      "cell_type": "code",
      "execution_count": null,
      "metadata": {
        "id": "4LD5WkI-cr4f"
      },
      "outputs": [],
      "source": [
        "\n",
        "---\n",
        "\n",
        "## Project 5: Customer Churn Prediction with XGBoost and SHAP Explainability\n",
        "\n",
        "---\n",
        "\n",
        "### `customer_churn_xgboost_shap.py`\n",
        "\n",
        "```python\n",
        "import xgboost as xgb\n",
        "import shap\n",
        "import pandas as pd\n",
        "from sklearn.model_selection import train_test_split\n",
        "from sklearn.metrics import accuracy_score\n",
        "\n",
        "def create_synthetic_data():\n",
        "    import numpy as np\n",
        "    np.random.seed(42)\n",
        "    data = pd.DataFrame({\n",
        "        'Age': np.random.randint(18, 70, 1000),\n",
        "        'Balance': np.random.uniform(0, 100000, 1000),\n",
        "        'NumProducts': np.random.randint(1, 4, 1000),\n",
        "        'CreditScore': np.random.randint(300, 850, 1000),\n",
        "        'IsActiveMember': np.random.randint(0,2,1000),\n",
        "        'Exited': np.random.randint(0,2,1000)\n",
        "    })\n",
        "    return data\n",
        "\n",
        "def main():\n",
        "    data = create_synthetic_data()\n",
        "\n",
        "    X = data.drop('Exited', axis=1)\n",
        "    y = data['Exited']\n",
        "\n",
        "    X_train, X_test, y_train, y_test = train_test_split(X, y, test_size=0.2, random_state=42)\n",
        "\n",
        "    model = xgb.XGBClassifier(use_label_encoder=False, eval_metric='logloss')\n",
        "    model.fit(X_train, y_train)\n",
        "\n",
        "    preds = model.predict(X_test)\n",
        "    print(\"Accuracy:\", accuracy_score(y_test, preds))\n",
        "\n",
        "    explainer = shap.TreeExplainer(model)\n",
        "    shap_values = explainer.shap_values(X_test)\n",
        "\n",
        "    shap.summary_plot(shap_values, X_test)\n",
        "\n",
        "if __name__ == \"__main__\":\n",
        "    main()\n"
      ]
    }
  ]
}